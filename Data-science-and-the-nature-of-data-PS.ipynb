{
 "cells": [
  {
   "cell_type": "markdown",
   "metadata": {},
   "source": [
    "# Data Science and the Nature of Data: Problem Solving\n",
    "\n",
    "This notebook is a companion to \"Data Science and the Nature of Data,\" so please read that first.\n",
    "\n",
    "## Problem\n",
    "\n",
    "We will be working with [a set of flower images](https://drive.google.com/file/d/16OFwIazU-dnu27kzP08iuZvk_lnBK9Ak/view?usp=sharing).\n",
    "As discussed in the last notebook, this is *unstructured data*.\n",
    "\n",
    "In this session, you will first work as a large team to structure the data.\n",
    "Then you will break into teams of 2-3 each to load the data into a dataframe in Jupyter manipulate rows/cols of the data.\n",
    "\n",
    "## Structure the data\n",
    "\n",
    "*Teaming:* You could do this together over Slack or video chat.\n",
    "\n",
    "Follow these steps:\n",
    "\n",
    "- Download the data\n",
    "- Look at the data\n",
    "- Discuss what questions you could ask of the data\n",
    "- Come up with three variables (columns) that correspond to these questions\n",
    "- Update [this Google sheet](https://docs.google.com/spreadsheets/d/1W44S-msazNTsiy0iGlQI9v_PJBKWZDwLw4_roK57m68/edit?usp=sharing) with values for your variables\n",
    "\n",
    "**Note if you break it up into 7 pieces, this is about 90 values per team member, so don't make the variables too complicated**\n",
    "\n",
    "## Load the data into a dataframe \n",
    "\n",
    "*Teaming:* Break into groups of 2-3.  You could do this together over Slack or video chat.\n",
    "\n",
    "- What are the variable types for each variable?\n",
    "- Download Google spreadsheet as csv or tsv\n",
    "- Upload to Juptyer (I recommend the `datasets` folder)\n",
    "\n",
    "Load the data into a dataframe (see the \"Data Science and the Nature of Data\" notebook) below"
   ]
  },
  {
   "cell_type": "code",
   "execution_count": null,
   "metadata": {},
   "outputs": [],
   "source": []
  },
  {
   "cell_type": "markdown",
   "metadata": {},
   "source": [
    "Select the first 10 rows of the data below"
   ]
  },
  {
   "cell_type": "code",
   "execution_count": null,
   "metadata": {},
   "outputs": [],
   "source": []
  },
  {
   "cell_type": "markdown",
   "metadata": {},
   "source": [
    "Select the last 10 rows of the data below"
   ]
  },
  {
   "cell_type": "code",
   "execution_count": null,
   "metadata": {},
   "outputs": [],
   "source": []
  },
  {
   "cell_type": "markdown",
   "metadata": {},
   "source": [
    "Select the middle 10 rows of the data below"
   ]
  },
  {
   "cell_type": "code",
   "execution_count": null,
   "metadata": {},
   "outputs": [],
   "source": []
  },
  {
   "cell_type": "markdown",
   "metadata": {},
   "source": [
    "Select the first two columns of the data below"
   ]
  },
  {
   "cell_type": "code",
   "execution_count": null,
   "metadata": {},
   "outputs": [],
   "source": []
  },
  {
   "cell_type": "markdown",
   "metadata": {},
   "source": [
    "Select the last two columns of the data below"
   ]
  },
  {
   "cell_type": "code",
   "execution_count": null,
   "metadata": {},
   "outputs": [],
   "source": []
  },
  {
   "cell_type": "markdown",
   "metadata": {},
   "source": [
    "Select the middle column of the data below"
   ]
  },
  {
   "cell_type": "code",
   "execution_count": null,
   "metadata": {},
   "outputs": [],
   "source": []
  },
  {
   "cell_type": "markdown",
   "metadata": {},
   "source": [
    "Try filtering everything below the middle value (or median) of the first column below"
   ]
  },
  {
   "cell_type": "code",
   "execution_count": null,
   "metadata": {},
   "outputs": [],
   "source": []
  },
  {
   "cell_type": "markdown",
   "metadata": {},
   "source": [
    "Try filtering everything below the middle value (or median) of the second column below"
   ]
  },
  {
   "cell_type": "code",
   "execution_count": null,
   "metadata": {},
   "outputs": [],
   "source": []
  },
  {
   "cell_type": "markdown",
   "metadata": {},
   "source": [
    "Try filtering everything below the middle value (or median) of the third column below"
   ]
  },
  {
   "cell_type": "code",
   "execution_count": null,
   "metadata": {},
   "outputs": [],
   "source": []
  }
 ],
 "metadata": {
  "kernelspec": {
   "display_name": "xpython",
   "language": "python",
   "name": "xpython"
  },
  "language_info": {
   "file_extension": ".py",
   "mimetype": "text/x-python",
   "name": "python",
   "version": "3.7.6"
  }
 },
 "nbformat": 4,
 "nbformat_minor": 4
}
