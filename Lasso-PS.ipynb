{
 "cells": [
  {
   "cell_type": "markdown",
   "metadata": {},
   "source": [
    "# Ridge and Lasso Regression: Problem solving"
   ]
  },
  {
   "cell_type": "markdown",
   "metadata": {},
   "source": [
    "In this session, we'll use the `boston` dataset, which has been used to examine the relationship between clean air and house prices:\n",
    "\n",
    "\n",
    "| Variable | Type | Description |\n",
    "|:----|:-----|:----------|\n",
    "|crim | Ratio | per capita crime rate by town | \n",
    "|zn | Ratio | proportion of residential land zoned for lots over 25,000 sq. ft. | \n",
    "|indus | Ratio | proportion of non-retain business acres per town | \n",
    "|chas | Nominal (binary) | Charles River dummy variable (=1 if tract bounds river, =0 otherwise) | \n",
    "|nox | Ratio | nitrogen oxides concentration (parts per 10 million) | \n",
    "|rm | Ratio | average number of rooms per dwelling | \n",
    "|age | Ratio | proportion of owner-occupied units built prior to 1940 | \n",
    "|dis | Ratio | weighted mean of distances to fie Boston employment centers | \n",
    "|rad | Ordinal | index of accessibility to radial highways | \n",
    "|tax | Ratio | full-value proporty tax rate per \\$10,000 | \n",
    "|ptratio | Ratio | pupil-teacher ratio by town | \n",
    "|lstat | Ratio | percent lower status of population (defined as non-high school graduate, manual labor) | \n",
    "|medv | Ratio | median value of owner-occupied homes in $1000s | "
   ]
  },
  {
   "cell_type": "markdown",
   "metadata": {},
   "source": [
    "As before, we'll try to predict `medv` using the rest of the variables.\n",
    "\n",
    "**Because `medv` is a ratio variable, we will use linear regression not logistic regression.**"
   ]
  },
  {
   "cell_type": "markdown",
   "metadata": {},
   "source": [
    "## Load data\n",
    "\n",
    "Import `pandas` to load a dataframe."
   ]
  },
  {
   "cell_type": "code",
   "execution_count": 5,
   "metadata": {},
   "outputs": [],
   "source": []
  },
  {
   "cell_type": "markdown",
   "metadata": {},
   "source": [
    "Load the dataframe."
   ]
  },
  {
   "cell_type": "code",
   "execution_count": null,
   "metadata": {},
   "outputs": [],
   "source": []
  },
  {
   "cell_type": "markdown",
   "metadata": {},
   "source": [
    "## Explore data\n",
    "\n",
    "Describe the data."
   ]
  },
  {
   "cell_type": "code",
   "execution_count": null,
   "metadata": {},
   "outputs": [],
   "source": []
  },
  {
   "cell_type": "markdown",
   "metadata": {},
   "source": [
    "-----------\n",
    "**QUESTION:**\n",
    "\n",
    "Do the min, mean, and max look reasonable to you, given what these variables mean (see the data description above)?"
   ]
  },
  {
   "cell_type": "markdown",
   "metadata": {},
   "source": [
    "**ANSWER: (click here to edit)**\n",
    "\n",
    "\n",
    "\n",
    "--------------------"
   ]
  },
  {
   "cell_type": "markdown",
   "metadata": {},
   "source": [
    "Make a correlation heatmap.\n",
    "\n",
    "First import `plotly.express`."
   ]
  },
  {
   "cell_type": "code",
   "execution_count": 8,
   "metadata": {},
   "outputs": [],
   "source": []
  },
  {
   "cell_type": "markdown",
   "metadata": {},
   "source": [
    "And show the heatmap"
   ]
  },
  {
   "cell_type": "code",
   "execution_count": null,
   "metadata": {},
   "outputs": [],
   "source": []
  },
  {
   "cell_type": "markdown",
   "metadata": {},
   "source": [
    "----------------------\n",
    "\n",
    "**QUESTION:**\n",
    "\n",
    "Do we have strong positive correlations, strong negative correlations, or both?"
   ]
  },
  {
   "cell_type": "markdown",
   "metadata": {},
   "source": [
    "**ANSWER: (click here to edit)**\n",
    "\n",
    "\n",
    "\n",
    "-----------------"
   ]
  },
  {
   "cell_type": "markdown",
   "metadata": {},
   "source": [
    "**QUESTION:**\n",
    "\n",
    "Given the nature of these variables, do these correlations surprise you? "
   ]
  },
  {
   "cell_type": "markdown",
   "metadata": {},
   "source": [
    "**ANSWER: (click here to edit)**\n",
    "\n",
    "\n",
    "-----------------"
   ]
  },
  {
   "cell_type": "markdown",
   "metadata": {},
   "source": [
    "## Prepare train/test sets\n",
    "\n",
    "Do the imports needed to split the dataframe into `X` and `Y`."
   ]
  },
  {
   "cell_type": "code",
   "execution_count": 11,
   "metadata": {},
   "outputs": [],
   "source": []
  },
  {
   "cell_type": "markdown",
   "metadata": {},
   "source": [
    "Create `X` by dropping the response variable `medv` from the dataframe."
   ]
  },
  {
   "cell_type": "code",
   "execution_count": 12,
   "metadata": {},
   "outputs": [],
   "source": []
  },
  {
   "cell_type": "markdown",
   "metadata": {},
   "source": [
    "Create `Y` by pulling just `medv` from the dataframe."
   ]
  },
  {
   "cell_type": "code",
   "execution_count": 13,
   "metadata": {},
   "outputs": [],
   "source": []
  },
  {
   "cell_type": "markdown",
   "metadata": {},
   "source": [
    "Now do the splits."
   ]
  },
  {
   "cell_type": "code",
   "execution_count": 14,
   "metadata": {},
   "outputs": [],
   "source": []
  },
  {
   "cell_type": "markdown",
   "metadata": {},
   "source": [
    "## Model 1: Linear regression\n",
    "\n",
    "Do the imports needed to build and evaluate a linear regression model that uses scaling."
   ]
  },
  {
   "cell_type": "code",
   "execution_count": 18,
   "metadata": {},
   "outputs": [],
   "source": []
  },
  {
   "cell_type": "markdown",
   "metadata": {},
   "source": [
    "### Training\n",
    "\n",
    "Make a pipeline to scale and train in one step.\n",
    "\n",
    "**Hint: `with linear_model create LinearRegression using`**"
   ]
  },
  {
   "cell_type": "code",
   "execution_count": 20,
   "metadata": {},
   "outputs": [],
   "source": []
  },
  {
   "cell_type": "markdown",
   "metadata": {},
   "source": [
    "Fit the pipeline."
   ]
  },
  {
   "cell_type": "code",
   "execution_count": null,
   "metadata": {},
   "outputs": [],
   "source": []
  },
  {
   "cell_type": "markdown",
   "metadata": {},
   "source": [
    "### Evaluation\n",
    "\n",
    "Get the $r^2$ on the test splits (see linear regression notebooks).\n",
    "\n",
    "**Hint: `do score using a list containing Xtest and Ytest` (from splits)**"
   ]
  },
  {
   "cell_type": "code",
   "execution_count": null,
   "metadata": {},
   "outputs": [],
   "source": []
  },
  {
   "cell_type": "markdown",
   "metadata": {},
   "source": [
    "------------------------\n",
    "**QUESTION:**\n",
    "\n",
    "Is this a good $r^2$?"
   ]
  },
  {
   "cell_type": "markdown",
   "metadata": {},
   "source": [
    "**ANSWER: (click here to edit)**\n",
    "\n",
    "\n",
    "\n",
    "------------------------"
   ]
  },
  {
   "cell_type": "markdown",
   "metadata": {},
   "source": [
    "Print the coefficients of the model"
   ]
  },
  {
   "cell_type": "code",
   "execution_count": null,
   "metadata": {},
   "outputs": [],
   "source": []
  },
  {
   "cell_type": "markdown",
   "metadata": {},
   "source": [
    "------------------------\n",
    "**QUESTION:**\n",
    "\n",
    "What are the two variables that most positively impact house price?\n",
    "What are the two variables that most negatively impact house price?"
   ]
  },
  {
   "cell_type": "markdown",
   "metadata": {},
   "source": [
    "**ANSWER: (click here to edit)**\n",
    "\n",
    "\n",
    "------------------------"
   ]
  },
  {
   "cell_type": "markdown",
   "metadata": {},
   "source": [
    "<!-- TODO: might be worth doing diagnostics for each model, though I'm concerned about how long that would take -->"
   ]
  },
  {
   "cell_type": "markdown",
   "metadata": {},
   "source": [
    "## Model 2: Lasso regression (alpha=.25)"
   ]
  },
  {
   "cell_type": "markdown",
   "metadata": {},
   "source": [
    "### Training\n",
    "\n",
    "Make a pipeline to scale and train in one step.\n",
    "\n",
    "**Hint: `with linear_model create Lasso using alpha=.25`**\n",
    "\n",
    "**Alpha is different from C so bigger numbers mean bigger penalties.**"
   ]
  },
  {
   "cell_type": "code",
   "execution_count": null,
   "metadata": {},
   "outputs": [],
   "source": []
  },
  {
   "cell_type": "markdown",
   "metadata": {},
   "source": [
    "Fit the pipeline."
   ]
  },
  {
   "cell_type": "code",
   "execution_count": null,
   "metadata": {},
   "outputs": [],
   "source": []
  },
  {
   "cell_type": "markdown",
   "metadata": {},
   "source": [
    "<!-- Now we can get predictions from the model for our test data: -->"
   ]
  },
  {
   "cell_type": "markdown",
   "metadata": {},
   "source": [
    "<!-- predictions_lasso75 = std_clf_lasso75.predict(splits[1])\n",
    "\n",
    "#<xml xmlns=\"https://developers.google.com/blockly/xml\"><variables><variable id=\"+c@nB4b@*dAXK60P0,vq\">predictions_lasso75</variable><variable id=\"q1J}F(vBK]9@{^K9+Yni\">std_clf_lasso75</variable><variable id=\"_ut$e0PL4OMi4o1MXTpw\">splits</variable></variables><block type=\"variables_set\" id=\"NHw$/HH988vNLbZgn)CM\" x=\"88\" y=\"212\"><field name=\"VAR\" id=\"+c@nB4b@*dAXK60P0,vq\">predictions_lasso75</field><value name=\"VALUE\"><block type=\"varDoMethod\" id=\"N}3ds6:i%0MtTA:(2im4\"><field name=\"VAR\" id=\"q1J}F(vBK]9@{^K9+Yni\">std_clf_lasso75</field><field name=\"MEMBER\">predict</field><data>std_clf_lasso75:predict</data><value name=\"INPUT\"><block type=\"lists_create_with\" id=\"3Ru6U*^.a`oD7$bu/I%y\"><mutation items=\"1\"></mutation><value name=\"ADD0\"><block type=\"lists_getIndex\" id=\"@lpyN+:CEcPQ#Q:Svm|9\"><mutation statement=\"false\" at=\"true\"></mutation><field name=\"MODE\">GET</field><field name=\"WHERE\">FROM_START</field><value name=\"VALUE\"><block type=\"variables_get\" id=\"ng))4fZyb@U1|eswo1}:\"><field name=\"VAR\" id=\"_ut$e0PL4OMi4o1MXTpw\">splits</field></block></value><value name=\"AT\"><block type=\"math_number\" id=\"Lo)w=2LL|Tf-L/gkeTdT\"><field name=\"NUM\">2</field></block></value></block></value></block></value></block></value></block></xml> -->\n"
   ]
  },
  {
   "cell_type": "markdown",
   "metadata": {},
   "source": [
    "### Evaluation\n",
    "\n",
    "Get the $r^2$ on the test splits."
   ]
  },
  {
   "cell_type": "code",
   "execution_count": null,
   "metadata": {},
   "outputs": [],
   "source": []
  },
  {
   "cell_type": "markdown",
   "metadata": {},
   "source": [
    "------------------------\n",
    "**QUESTION:**\n",
    "\n",
    "How does this compare to the previous $r^2$? \n",
    "Should we be concerned?"
   ]
  },
  {
   "cell_type": "markdown",
   "metadata": {},
   "source": [
    "**ANSWER: (click here to edit)**\n",
    "\n",
    "------------------------"
   ]
  },
  {
   "cell_type": "markdown",
   "metadata": {},
   "source": [
    "Print how many coefficients are not zero."
   ]
  },
  {
   "cell_type": "code",
   "execution_count": null,
   "metadata": {},
   "outputs": [],
   "source": []
  },
  {
   "cell_type": "markdown",
   "metadata": {},
   "source": [
    "Print the coefficients of the model"
   ]
  },
  {
   "cell_type": "code",
   "execution_count": null,
   "metadata": {},
   "outputs": [],
   "source": []
  },
  {
   "cell_type": "markdown",
   "metadata": {},
   "source": [
    "------------------------\n",
    "**QUESTION:**\n",
    "\n",
    "What are the two variables that most positively impact house price?\n",
    "What are the two variables that most negatively impact house price?\n",
    "How is this different from before?"
   ]
  },
  {
   "cell_type": "markdown",
   "metadata": {},
   "source": [
    "**ANSWER: (click here to edit)**\n",
    "\n",
    "\n",
    "------------------------"
   ]
  },
  {
   "cell_type": "markdown",
   "metadata": {},
   "source": [
    "## Model 3: Lasso regression (alpha=.75)"
   ]
  },
  {
   "cell_type": "markdown",
   "metadata": {},
   "source": [
    "### Training\n",
    "\n",
    "Make a pipeline to scale and train in one step, using alpha=.75."
   ]
  },
  {
   "cell_type": "code",
   "execution_count": null,
   "metadata": {},
   "outputs": [],
   "source": []
  },
  {
   "cell_type": "markdown",
   "metadata": {},
   "source": [
    "Fit the pipeline."
   ]
  },
  {
   "cell_type": "code",
   "execution_count": null,
   "metadata": {},
   "outputs": [],
   "source": []
  },
  {
   "cell_type": "markdown",
   "metadata": {},
   "source": [
    "<!-- Now we can get predictions from the model for our test data: -->"
   ]
  },
  {
   "cell_type": "markdown",
   "metadata": {},
   "source": [
    "<!-- predictions_lasso75 = std_clf_lasso75.predict(splits[1])\n",
    "\n",
    "#<xml xmlns=\"https://developers.google.com/blockly/xml\"><variables><variable id=\"+c@nB4b@*dAXK60P0,vq\">predictions_lasso75</variable><variable id=\"q1J}F(vBK]9@{^K9+Yni\">std_clf_lasso75</variable><variable id=\"_ut$e0PL4OMi4o1MXTpw\">splits</variable></variables><block type=\"variables_set\" id=\"NHw$/HH988vNLbZgn)CM\" x=\"88\" y=\"212\"><field name=\"VAR\" id=\"+c@nB4b@*dAXK60P0,vq\">predictions_lasso75</field><value name=\"VALUE\"><block type=\"varDoMethod\" id=\"N}3ds6:i%0MtTA:(2im4\"><field name=\"VAR\" id=\"q1J}F(vBK]9@{^K9+Yni\">std_clf_lasso75</field><field name=\"MEMBER\">predict</field><data>std_clf_lasso75:predict</data><value name=\"INPUT\"><block type=\"lists_create_with\" id=\"3Ru6U*^.a`oD7$bu/I%y\"><mutation items=\"1\"></mutation><value name=\"ADD0\"><block type=\"lists_getIndex\" id=\"@lpyN+:CEcPQ#Q:Svm|9\"><mutation statement=\"false\" at=\"true\"></mutation><field name=\"MODE\">GET</field><field name=\"WHERE\">FROM_START</field><value name=\"VALUE\"><block type=\"variables_get\" id=\"ng))4fZyb@U1|eswo1}:\"><field name=\"VAR\" id=\"_ut$e0PL4OMi4o1MXTpw\">splits</field></block></value><value name=\"AT\"><block type=\"math_number\" id=\"Lo)w=2LL|Tf-L/gkeTdT\"><field name=\"NUM\">2</field></block></value></block></value></block></value></block></value></block></xml> -->\n"
   ]
  },
  {
   "cell_type": "markdown",
   "metadata": {},
   "source": [
    "### Evaluation\n",
    "\n",
    "Get the $r^2$ on the test splits."
   ]
  },
  {
   "cell_type": "code",
   "execution_count": null,
   "metadata": {},
   "outputs": [],
   "source": []
  },
  {
   "cell_type": "markdown",
   "metadata": {},
   "source": [
    "------------------------\n",
    "**QUESTION:**\n",
    "\n",
    "How does this compare to the previous $r^2$? \n",
    "Should we be concerned?"
   ]
  },
  {
   "cell_type": "markdown",
   "metadata": {},
   "source": [
    "**ANSWER: (click here to edit)**\n",
    "\n",
    "\n",
    "------------------------"
   ]
  },
  {
   "cell_type": "markdown",
   "metadata": {},
   "source": [
    "Print how many coefficients are not zero."
   ]
  },
  {
   "cell_type": "code",
   "execution_count": null,
   "metadata": {},
   "outputs": [],
   "source": []
  },
  {
   "cell_type": "markdown",
   "metadata": {},
   "source": [
    "Print the coefficients of the model"
   ]
  },
  {
   "cell_type": "code",
   "execution_count": null,
   "metadata": {},
   "outputs": [],
   "source": []
  },
  {
   "cell_type": "markdown",
   "metadata": {},
   "source": [
    "------------------------\n",
    "**QUESTION:**\n",
    "\n",
    "What are the two variables that most positively impact house price?\n",
    "What are the two variables that most negatively impact house price?\n",
    "How is this different from before?"
   ]
  },
  {
   "cell_type": "markdown",
   "metadata": {},
   "source": [
    "**ANSWER: (click here to edit)**\n",
    "\n",
    "\n",
    "\n",
    "------------------------"
   ]
  },
  {
   "cell_type": "markdown",
   "metadata": {},
   "source": [
    "### Comparing Lasso models"
   ]
  },
  {
   "cell_type": "markdown",
   "metadata": {},
   "source": [
    "------------------------\n",
    "**QUESTION:**\n",
    "\n",
    "Which model do you prefer?\n",
    "Why?"
   ]
  },
  {
   "cell_type": "markdown",
   "metadata": {},
   "source": [
    "**ANSWER: (click here to edit)**\n",
    "\n",
    "\n",
    "------------------------"
   ]
  },
  {
   "cell_type": "markdown",
   "metadata": {},
   "source": [
    "\n",
    "**QUESTION:**\n",
    "\n",
    "Is there any model that you don't trust?\n",
    "Why?"
   ]
  },
  {
   "cell_type": "markdown",
   "metadata": {},
   "source": [
    "**ANSWER: (click here to edit)**\n",
    "\n",
    "\n",
    "------------------------"
   ]
  },
  {
   "cell_type": "markdown",
   "metadata": {},
   "source": [
    "\n",
    "**QUESTION:**\n",
    "\n",
    "If you were to more seriously investigate multicolinearity in this situation, what are other things you could do?"
   ]
  },
  {
   "cell_type": "markdown",
   "metadata": {},
   "source": [
    "**ANSWER: (click here to edit)**\n",
    "\n",
    "\n",
    "------------------------"
   ]
  },
  {
   "cell_type": "markdown",
   "metadata": {},
   "source": [
    "\n",
    "**QUESTION:**\n",
    "\n",
    "What is the interpretation of the four most positive/negative coefficients in model 3 and their impact on house price?"
   ]
  },
  {
   "cell_type": "markdown",
   "metadata": {},
   "source": [
    "**ANSWER: (click here to edit)**\n",
    "\n",
    "\n",
    "------------------------"
   ]
  },
  {
   "cell_type": "markdown",
   "metadata": {},
   "source": [
    "## Submit your work\n",
    "\n",
    "When you have finished the notebook, please download it, log in to [OKpy](https://okpy.org/) using \"Student Login\", and submit it there.\n",
    "\n",
    "Then let your instructor know on Slack.\n"
   ]
  }
 ],
 "metadata": {
  "kernelspec": {
   "display_name": "xpython",
   "language": "python",
   "name": "xpython"
  },
  "language_info": {
   "file_extension": ".py",
   "mimetype": "text/x-python",
   "name": "python",
   "version": "3.7.6"
  }
 },
 "nbformat": 4,
 "nbformat_minor": 4
}
