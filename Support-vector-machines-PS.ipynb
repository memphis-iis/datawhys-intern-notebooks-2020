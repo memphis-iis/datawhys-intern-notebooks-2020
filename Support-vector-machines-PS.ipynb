{
 "cells": [
  {
   "cell_type": "markdown",
   "metadata": {},
   "source": [
    "# Support vector machines: Problem solving\n",
    "\n",
    "This exercise uses the `baseball` dataset, which contains Major League Baseball data from 1986 and 1987.\n",
    "\n",
    "The goal is to predict `Division` (E: East or W: West) using all the other variables.\n",
    "\n",
    "| Variable  | Type    | Description                                                                      |\n",
    "|:-----------|:---------|:----------------------------------------------------------------------------------|\n",
    "| AtBat     | Ratio   | Number of times at bat in 1986                                                   |\n",
    "| Hits      | Ratio   | Number of hits in 1986                                                           |\n",
    "| HmRun     | Ratio   | Number of home runs in 1986                                                      |\n",
    "| Runs      | Ratio   | Number of runs in 1986                                                           |\n",
    "| RBI       | Ratio   | Number of runs batted in in 1986                                                 |\n",
    "| Walks     | Ratio   | Number of walks in 1986                                                          |\n",
    "| Years     | Ratio   | Number of years in the major leagues                                             |\n",
    "| CAtBat    | Ratio   | Number of times at bat during his career                                         |\n",
    "| CHits     | Ratio   | Number of hits during his career                                                 |\n",
    "| CHmRun    | Ratio   | Number of home runs during his career                                            |\n",
    "| CRuns     | Ratio   | Number of runs during his career                                                 |\n",
    "| CRBI      | Ratio   | Number of runs batted in during his career                                       |\n",
    "| CWalks    | Ratio   | Number of walks during his career                                                |\n",
    "| League    | Nominal | A factor with levels A and N indicating player's league at the end of 1986       |\n",
    "| Division  | Nominal | A factor with levels E and W indicating player's division at the end of 1986     |\n",
    "| PutOuts   | Ratio   | Number of put outs in 1986                                                       |\n",
    "| Assists   | Ratio   | Number of assists in 1986                                                        |\n",
    "| Errors    | Ratio   | Number of errors in 1986                                                         |\n",
    "| Salary    | Ratio   | 1987 annual salary on opening day in thousands of dollars                        |\n",
    "| NewLeague | Nominal | A factor with levels A and N indicating player's league at the beginning of 1987 |\n",
    "\n",
    "**Source:** This dataset was taken from the StatLib library which is maintained at Carnegie Mellon University. "
   ]
  },
  {
   "cell_type": "markdown",
   "metadata": {},
   "source": [
    "## Load data"
   ]
  },
  {
   "cell_type": "markdown",
   "metadata": {},
   "source": [
    "Import `pandas` so we can load a dataframe."
   ]
  },
  {
   "cell_type": "code",
   "execution_count": 1,
   "metadata": {},
   "outputs": [],
   "source": []
  },
  {
   "cell_type": "markdown",
   "metadata": {},
   "source": [
    "Load the dataframe with `datasets/baseball.csv`."
   ]
  },
  {
   "cell_type": "code",
   "execution_count": null,
   "metadata": {},
   "outputs": [],
   "source": []
  },
  {
   "cell_type": "markdown",
   "metadata": {},
   "source": [
    "## Explore data"
   ]
  },
  {
   "cell_type": "markdown",
   "metadata": {},
   "source": [
    "To remove missing values `dropna` and store the results back into your dataframe."
   ]
  },
  {
   "cell_type": "code",
   "execution_count": null,
   "metadata": {},
   "outputs": [],
   "source": []
  },
  {
   "cell_type": "markdown",
   "metadata": {},
   "source": [
    "------------------\n",
    "**QUESTION:**\n",
    "\n",
    "How many rows had NaN?"
   ]
  },
  {
   "cell_type": "markdown",
   "metadata": {},
   "source": [
    "**ANSWER: (click here to edit)**\n",
    "\n",
    "\n",
    "-------------------"
   ]
  },
  {
   "cell_type": "markdown",
   "metadata": {},
   "source": [
    "To get the five figure summary, `describe` the dataframe."
   ]
  },
  {
   "cell_type": "code",
   "execution_count": null,
   "metadata": {},
   "outputs": [],
   "source": []
  },
  {
   "cell_type": "markdown",
   "metadata": {},
   "source": [
    "To visualize relationships amongst variables, first import `plotly.express`."
   ]
  },
  {
   "cell_type": "code",
   "execution_count": null,
   "metadata": {},
   "outputs": [],
   "source": []
  },
  {
   "cell_type": "markdown",
   "metadata": {},
   "source": [
    "And create a correlation matrix heatmap."
   ]
  },
  {
   "cell_type": "code",
   "execution_count": null,
   "metadata": {},
   "outputs": [],
   "source": []
  },
  {
   "cell_type": "markdown",
   "metadata": {},
   "source": [
    "------------------\n",
    "**QUESTION:**\n",
    "\n",
    "What groups of variables are strongly correlated?"
   ]
  },
  {
   "cell_type": "markdown",
   "metadata": {},
   "source": [
    "**ANSWER: (click here to edit)**\n",
    "\n",
    "\n",
    "\n",
    "-------------------"
   ]
  },
  {
   "cell_type": "markdown",
   "metadata": {},
   "source": [
    "**Note**: Although we have a lot of multicolinearity, that is not necessarily a problem for *penalized* methods like SVM, ridge, and lasso regression.\n",
    "However, the value of the penalty parameter `C` becomes even more important with multicolinearity."
   ]
  },
  {
   "cell_type": "markdown",
   "metadata": {},
   "source": [
    "Do a histogram of the class label `Division` since we would like to see how our classes are balanced. "
   ]
  },
  {
   "cell_type": "code",
   "execution_count": null,
   "metadata": {},
   "outputs": [],
   "source": []
  },
  {
   "cell_type": "markdown",
   "metadata": {},
   "source": [
    "------------------\n",
    "**QUESTION:**\n",
    "\n",
    "What can you say about the balance between the classes and any possible problems that may result?"
   ]
  },
  {
   "cell_type": "markdown",
   "metadata": {},
   "source": [
    "**ANSWER: (click here to edit)**\n",
    "\n",
    "\n",
    "-------------------"
   ]
  },
  {
   "cell_type": "markdown",
   "metadata": {},
   "source": [
    "## Prepare train/test sets"
   ]
  },
  {
   "cell_type": "markdown",
   "metadata": {},
   "source": [
    "We need to separate our predictors (`X`) from our class label (`Y`), putting each into its own dataframe, so create `X` and `Y`."
   ]
  },
  {
   "cell_type": "code",
   "execution_count": null,
   "metadata": {},
   "outputs": [],
   "source": []
  },
  {
   "cell_type": "markdown",
   "metadata": {},
   "source": [
    "Convert the nominal variables in `X` to dummies, storing the result in `X`. Keep all levels."
   ]
  },
  {
   "cell_type": "code",
   "execution_count": null,
   "metadata": {},
   "outputs": [],
   "source": []
  },
  {
   "cell_type": "markdown",
   "metadata": {},
   "source": [
    "Convert the nominal variable in `Y`, but drop the reference level."
   ]
  },
  {
   "cell_type": "code",
   "execution_count": null,
   "metadata": {},
   "outputs": [],
   "source": []
  },
  {
   "cell_type": "markdown",
   "metadata": {},
   "source": [
    "------------------\n",
    "**QUESTION:**\n",
    "\n",
    "Why did we keep all levels of nominals for `X` but not `Y`?\n",
    "What level/class is now `1` in `Y`?"
   ]
  },
  {
   "cell_type": "markdown",
   "metadata": {},
   "source": [
    "**ANSWER: (click here to edit)**\n",
    "\n",
    "\n",
    "\n",
    "-------------------"
   ]
  },
  {
   "cell_type": "markdown",
   "metadata": {},
   "source": [
    "To split the data into train/test sets, import `model_selection`."
   ]
  },
  {
   "cell_type": "code",
   "execution_count": 12,
   "metadata": {},
   "outputs": [],
   "source": []
  },
  {
   "cell_type": "markdown",
   "metadata": {},
   "source": [
    "And do the actual spliting of data, using `random_state=1`."
   ]
  },
  {
   "cell_type": "code",
   "execution_count": null,
   "metadata": {},
   "outputs": [],
   "source": []
  },
  {
   "cell_type": "markdown",
   "metadata": {},
   "source": [
    "## Fit model\n",
    "\n",
    "Import libraries for:\n",
    "\n",
    "- SVM\n",
    "- Metrics\n",
    "- Ravel\n",
    "\n",
    "As well as libraries we need to standardize:\n",
    "\n",
    "- Scale\n",
    "- Pipeline"
   ]
  },
  {
   "cell_type": "code",
   "execution_count": null,
   "metadata": {},
   "outputs": [],
   "source": []
  },
  {
   "cell_type": "markdown",
   "metadata": {},
   "source": [
    "Make a pipeline so we can scale and train in one step:\n",
    "\n",
    "- Use `StandardScaler`\n",
    "- Use `SVC` with `random_state=1`, `kernel=\"rbf\"`, and `C=60`"
   ]
  },
  {
   "cell_type": "code",
   "execution_count": 105,
   "metadata": {},
   "outputs": [],
   "source": []
  },
  {
   "cell_type": "markdown",
   "metadata": {},
   "source": [
    "Call`fit` on the pipeline."
   ]
  },
  {
   "cell_type": "code",
   "execution_count": null,
   "metadata": {},
   "outputs": [],
   "source": []
  },
  {
   "cell_type": "markdown",
   "metadata": {},
   "source": [
    "Get and save predictions."
   ]
  },
  {
   "cell_type": "code",
   "execution_count": null,
   "metadata": {},
   "outputs": [],
   "source": []
  },
  {
   "cell_type": "markdown",
   "metadata": {},
   "source": [
    "## Evaluate the model"
   ]
  },
  {
   "cell_type": "markdown",
   "metadata": {},
   "source": [
    "Get the accuracy."
   ]
  },
  {
   "cell_type": "code",
   "execution_count": null,
   "metadata": {},
   "outputs": [],
   "source": []
  },
  {
   "cell_type": "markdown",
   "metadata": {},
   "source": [
    "And get the recall and precision."
   ]
  },
  {
   "cell_type": "code",
   "execution_count": null,
   "metadata": {},
   "outputs": [],
   "source": []
  },
  {
   "cell_type": "markdown",
   "metadata": {},
   "source": [
    "------------------\n",
    "**QUESTION:**\n",
    "\n",
    "Are you surprised by the classifier's ability to distinguish between East and West MLB divisions?\n",
    "Why or why not?"
   ]
  },
  {
   "cell_type": "markdown",
   "metadata": {},
   "source": [
    "**ANSWER: (click here to edit)**\n",
    "\n",
    "\n",
    "\n",
    "-------------------"
   ]
  },
  {
   "cell_type": "markdown",
   "metadata": {},
   "source": [
    "**QUESTION:**\n",
    "\n",
    "Try going back and changing `C` to different values to see how that effects the results. Try low values below 1 and large values up to 10,000.\n",
    "\n",
    "What values did you try, and how did the accuracy change?"
   ]
  },
  {
   "cell_type": "markdown",
   "metadata": {},
   "source": [
    "**ANSWER: (click here to edit)**\n",
    "\n",
    "\n",
    "\n",
    "-------------------"
   ]
  },
  {
   "cell_type": "markdown",
   "metadata": {},
   "source": [
    "## Submit your work\n",
    "\n",
    "When you have finished the notebook, please download it, log in to [OKpy](https://okpy.org/) using \"Student Login\", and submit it there.\n",
    "\n",
    "Then let your instructor know on Slack.\n"
   ]
  }
 ],
 "metadata": {
  "kernelspec": {
   "display_name": "xpython",
   "language": "python",
   "name": "xpython"
  },
  "language_info": {
   "file_extension": ".py",
   "mimetype": "text/x-python",
   "name": "python",
   "version": "3.7.6"
  }
 },
 "nbformat": 4,
 "nbformat_minor": 4
}
